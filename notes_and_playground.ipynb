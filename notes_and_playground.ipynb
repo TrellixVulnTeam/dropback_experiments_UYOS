{
 "cells": [
  {
   "cell_type": "markdown",
   "source": [
    "To launch interactive shell in Slurm:\n",
    "```\n",
    "srun -c 16 --gres=gpu:4 --mem=96G --time=45:00:00 --pty bash -i\n",
    "\n",
    "srun -c 4 --gres=gpu:1 --mem=36G --time=1:00:00 --pty bash -i\n",
    "```"
   ],
   "metadata": {}
  }
 ],
 "metadata": {
  "orig_nbformat": 4,
  "language_info": {
   "name": "python",
   "version": "3.8.5"
  },
  "kernelspec": {
   "name": "python3",
   "display_name": "Python 3.8.5 64-bit ('base': conda)"
  },
  "interpreter": {
   "hash": "0e8e5263c7db391b3747342e0c370538352666d3d20c8ee1b796b70c1e70bf67"
  }
 },
 "nbformat": 4,
 "nbformat_minor": 2
}